{
 "cells": [
  {
   "cell_type": "markdown",
   "metadata": {},
   "source": [
    "# Seminar 2 - Solowmodellen med teknologi\n",
    "\n",
    "I 2019 hadde Afghanistan en BNP per innbygger tilsvarende cirka 585 kjøpkraftsjusterte USD (cirka 5800 NOK per innbygger og år). I gjennomsnitt går folk i skole i 3.3 år i landet. En stor årsak til det lave nivået er at få jenter går 9 år i skolen.\n",
    "\n",
    "Gå ut ifra at den Afghanske økonomien kan beskrives ved bruk av produksjonsfunksjonen under:\n",
    "\n",
    "$ Y(t) = A (q_kK(t))^{\\alpha} (q_l L(t))^{1-\\alpha}$\n",
    "\n",
    "og at antakelsene til Solow-modellen med konstant og eksogent gitt teknologi holder.\n",
    "\n",
    "<!-- Hva predikerer Solowmodellen vil skje med produksjon i steady state dersom den Afghanske regjeringa gjør tiltak som fører til at fler jenter går i skole? Gå ut ifra at tiltaket fører til at jenter blir 20% mer produktive og at landet er i steady state før tiltaket. -->"
   ]
  },
  {
   "cell_type": "code",
   "execution_count": 46,
   "metadata": {},
   "outputs": [],
   "source": [
    "# Importer biblioteker\n",
    "import sympy as sp\n",
    "import numpy as np\n",
    "import matplotlib.pyplot as plt\n",
    "\n",
    "# Antakelser: alpha = 0.3, s = 0.1, n=0.04, A=66, qk = 1, ql0 = 1\n",
    "# Definerer tallverdiene\n",
    "a = 0.3\n",
    "s = 0.1\n",
    "n = 0.04\n",
    "A = 66\n",
    "qk = 1\n",
    "ql0 = 1\n",
    "ql2= 1.2\n",
    "# Definerer alle algebraiske symboler\n",
    "a, s, n, A, q_k, q_l,t = sp.symbols('a s n A q_k q_l t', real=True, positive=True)\n",
    "\n"
   ]
  },
  {
   "cell_type": "markdown",
   "metadata": {},
   "source": [
    "a) Beregn nivå på kapitalintensitet og produksjon per innbygger før og etter intervensjonen"
   ]
  },
  {
   "cell_type": "code",
   "execution_count": 58,
   "metadata": {},
   "outputs": [
    {
     "data": {
      "text/latex": [
       "$\\displaystyle Y{\\left(t \\right)} = A \\left(q_{k} K{\\left(t \\right)}\\right)^{a} \\left(q_{l} L{\\left(t \\right)}\\right)^{1 - a}$"
      ],
      "text/plain": [
       "Eq(Y(t), A*(q_k*K(t))**a*(q_l*L(t))**(1 - a))"
      ]
     },
     "execution_count": 58,
     "metadata": {},
     "output_type": "execute_result"
    }
   ],
   "source": [
    "# Beregner nivå på kapitalintensitet (y i steady state) og produksjon per innbygger (k i steady state)\n",
    "\n",
    "\n",
    "# Define K and L as functions of t\n",
    "K = sp.Function('K', real=True, positive=True)(t)\n",
    "L = sp.Function('L', real=True, positive=True)(t)\n",
    "\n",
    "# Define Y as a function of t\n",
    "Y = sp.Function('Y', real=True, positive=True)(t)\n",
    "\n",
    "# $ Y(t) = A (q_kK(t))^{\\alpha} (q_l L(t))^{1-\\alpha}$\n",
    "func = sp.Eq(Y, A*(q_k*K)**(a)*(q_l*L)**(1-a))\n",
    "\n",
    "func\n",
    "# Finne lille y, produksjon per innbygger, Y(t)/L(T)\n",
    "\n"
   ]
  },
  {
   "cell_type": "code",
   "execution_count": 52,
   "metadata": {},
   "outputs": [],
   "source": [
    "# Lager to funksjoner for å løse for K og L\n",
    "def s_func(s,k,t):\n",
    "    return s*k\n",
    "\n",
    "def y_func(y,s,t):\n",
    "    return s*y"
   ]
  },
  {
   "cell_type": "markdown",
   "metadata": {},
   "source": [
    "b) Illustrer effekten av økt skolegang blant jenter grafisk"
   ]
  },
  {
   "cell_type": "code",
   "execution_count": null,
   "metadata": {},
   "outputs": [],
   "source": []
  },
  {
   "cell_type": "markdown",
   "metadata": {},
   "source": [
    "c) Forklar mekanismene bak effekten (økonomisk intuisjon)\n",
    "\n"
   ]
  }
 ],
 "metadata": {
  "kernelspec": {
   "display_name": "Python 3",
   "language": "python",
   "name": "python3"
  },
  "language_info": {
   "codemirror_mode": {
    "name": "ipython",
    "version": 3
   },
   "file_extension": ".py",
   "mimetype": "text/x-python",
   "name": "python",
   "nbconvert_exporter": "python",
   "pygments_lexer": "ipython3",
   "version": "3.11.2"
  }
 },
 "nbformat": 4,
 "nbformat_minor": 2
}
