{
 "cells": [
  {
   "cell_type": "markdown",
   "metadata": {},
   "source": [
    "# Seminar 3\n",
    "\n",
    "## Solowmodellen med naturressurser"
   ]
  },
  {
   "cell_type": "markdown",
   "metadata": {},
   "source": [
    "## Oppgave 1\n",
    "\n",
    "* Anta at antakelsene til Solow-modellen med naturressurser holder, og at en økonomis totale produksjon er gitt ved\n",
    "\n",
    "$$ Y(t) = A(t)*(q_k(t)*K(t))^\\alpha*(q_l(t)*L(t))^\\beta *(q_r(t)*R(t)^\\gamma) $$\n",
    "\n",
    "$$ 0 < \\alpha, \\beta, \\gamma < 1 \\  og \\  \\alpha + \\beta + \\gamma \\ = 1$$\n",
    "\n",
    "Der $$ q_k(t) = e^{j*t}, \\ q_l(t) = e^{m*t}, \\ q_r = e^{h*t}, $$\n",
    "\n",
    "$$ A(t) = A_0 * e^{gA*t}, \\ L(t) = L_0 * e^{n*t}, \\ R(t) = R_0 * e^{-u*t}$$\n",
    "\n",
    "* Utled et uttrykk for vekstraten i produksjon per arbeider (utenom steady state).\n"
   ]
  },
  {
   "cell_type": "code",
   "execution_count": 71,
   "metadata": {},
   "outputs": [
    {
     "data": {
      "text/latex": [
       "$\\displaystyle \\frac{Y{\\left(t \\right)}}{L{\\left(t \\right)}} = \\frac{A{\\left(t \\right)} K^{\\alpha}{\\left(t \\right)} L^{\\beta}{\\left(t \\right)} R^{\\gamma}{\\left(t \\right)} q_{k}{\\left(t \\right)} q_{l}{\\left(t \\right)} q_{r}{\\left(t \\right)}}{L{\\left(t \\right)}}$"
      ],
      "text/plain": [
       "Eq(Y(t)/L(t), A(t)*K(t)**alpha*L(t)**beta*R(t)**gamma*q_k(t)*q_l(t)*q_r(t)/L(t))"
      ]
     },
     "execution_count": 71,
     "metadata": {},
     "output_type": "execute_result"
    }
   ],
   "source": [
    "import numpy as np\n",
    "import matplotlib.pyplot as plt\n",
    "import sympy as sp\n",
    "\n",
    "# Utlede et uttrykk for den deriverte i produksjon per arbeider\n",
    "# Definere funksjoner av variablene av t\n",
    "t, alpha, beta, gamma,j,m,h,gA,n,u = sp.symbols('t alpha beta gamma j m h gA n u')\n",
    "Y = sp.Function('Y')(t)\n",
    "A = sp.Function('A')(t)\n",
    "q_k = sp.Function('q_k')(t)\n",
    "K = sp.Function('K')(t)\n",
    "q_l = sp.Function('q_l')(t)\n",
    "L = sp.Function('L')(t)\n",
    "q_r = sp.Function('q_r')(t)\n",
    "R = sp.Function('R')(t)\n",
    "# Beregner nivå på kapitalintensitet (y i steady state) og produksjon per innbygger (k i steady state)\n",
    "# Y(t) = A(t)*(q_k(t)*K(t))^\\alpha*(q_l(t)*L(t))^\\beta *(q_r(t)*R(t)^\\gamma) \n",
    "func = sp.Eq(Y/L, A*q_k*K**alpha*q_l*L**beta*q_r*R**gamma/L)\n",
    "func_rhs = func.rhs\n",
    "RHS = sp.solve(func, L)[0]\n",
    "\n",
    "\n",
    "func"
   ]
  },
  {
   "cell_type": "code",
   "execution_count": 78,
   "metadata": {},
   "outputs": [
    {
     "data": {
      "text/latex": [
       "$\\displaystyle \\frac{Y{\\left(t \\right)} e^{- 5 n t}}{L{\\left(t \\right)}} = \\frac{\\left(L{\\left(t \\right)} e^{5 n t}\\right)^{\\beta} \\left(R{\\left(t \\right)} e^{- 5 t u}\\right)^{\\gamma} A{\\left(t \\right)} K^{\\alpha}{\\left(t \\right)} e^{7 gA t} e^{h t} e^{j t} e^{m t} e^{- 5 n t}}{L{\\left(t \\right)}}$"
      ],
      "text/plain": [
       "Eq(Y(t)*exp(-5*n*t)/L(t), (L(t)*exp(5*n*t))**beta*(R(t)*exp(-5*t*u))**gamma*A(t)*K(t)**alpha*exp(7*gA*t)*exp(h*t)*exp(j*t)*exp(m*t)*exp(-5*n*t)/L(t))"
      ]
     },
     "execution_count": 78,
     "metadata": {},
     "output_type": "execute_result"
    }
   ],
   "source": [
    "# subbing in Der $$ q_k(t) = e^{j*t}, \\ q_l(t) = e^{m*t}, \\ q_r = e^{h*t}, $$\n",
    "\n",
    "#$$ A(t) = A_0 * e^{gA*t}, \\ L(t) = L_0 * e^{n*t}, \\ R(t) = R_0 * e^{-u*t}$$\n",
    "A = A.subs(A, A*sp.exp(gA*t))\n",
    "q_k = q_k.subs(q_k, sp.exp(j*t))\n",
    "q_l = q_l.subs(q_l, sp.exp(m*t))\n",
    "q_r = q_r.subs(q_r, sp.exp(h*t))\n",
    "L = L.subs(L, L*sp.exp(n*t))\n",
    "R = R.subs(R, R*sp.exp(-u*t))\n",
    "\n",
    "# subbing this into the RHS of the equation\n",
    "func = sp.Eq(Y/L, A*q_k*K**alpha*q_l*L**beta*q_r*R**gamma/L)\n",
    "\n",
    "func"
   ]
  },
  {
   "cell_type": "code",
   "execution_count": 87,
   "metadata": {},
   "outputs": [
    {
     "data": {
      "text/latex": [
       "$\\displaystyle \\frac{\\alpha \\frac{d}{d t} K{\\left(t \\right)}}{K{\\left(t \\right)}} + 5 \\beta n + \\frac{\\beta \\frac{d}{d t} L{\\left(t \\right)}}{L{\\left(t \\right)}} + 7 gA - 5 \\gamma u + \\frac{\\gamma \\frac{d}{d t} R{\\left(t \\right)}}{R{\\left(t \\right)}} + h + j + m - 5 n - \\frac{\\frac{d}{d t} L{\\left(t \\right)}}{L{\\left(t \\right)}} + \\frac{\\frac{d}{d t} A{\\left(t \\right)}}{A{\\left(t \\right)}}$"
      ],
      "text/plain": [
       "alpha*Derivative(K(t), t)/K(t) + 5*beta*n + beta*Derivative(L(t), t)/L(t) + 7*gA - 5*gamma*u + gamma*Derivative(R(t), t)/R(t) + h + j + m - 5*n - Derivative(L(t), t)/L(t) + Derivative(A(t), t)/A(t)"
      ]
     },
     "execution_count": 87,
     "metadata": {},
     "output_type": "execute_result"
    }
   ],
   "source": [
    "svar = sp.log(func.rhs)\n",
    "\n",
    "svar = sp.diff(svar, t)\n",
    "\n",
    "svar = svar.simplify()\n",
    "\n",
    "svar"
   ]
  },
  {
   "cell_type": "code",
   "execution_count": 63,
   "metadata": {},
   "outputs": [],
   "source": [
    "# simplifying func and taking the log and the derivative\n",
    "svar = sp.simplify(sp.diff(func, t))\n",
    "\n",
    "\n",
    "# using eulers equation to find the growth rate of the production per worker\n",
    "svar_2 = sp.exp(svar)"
   ]
  },
  {
   "cell_type": "code",
   "execution_count": 66,
   "metadata": {},
   "outputs": [
    {
     "data": {
      "text/latex": [
       "$\\displaystyle \\frac{\\partial}{\\partial t} Y{\\left(t \\right)} = A{\\left(t \\right)} K^{\\alpha}{\\left(t \\right)} L^{\\beta - 1}{\\left(t \\right)} R^{\\gamma}{\\left(t \\right)} q_{k}{\\left(t \\right)} q_{l}{\\left(t \\right)} q_{r}{\\left(t \\right)}$"
      ],
      "text/plain": [
       "Derivative(Eq(Y(t), A(t)*K(t)**alpha*L(t)**(beta - 1)*R(t)**gamma*q_k(t)*q_l(t)*q_r(t)), t)"
      ]
     },
     "execution_count": 66,
     "metadata": {},
     "output_type": "execute_result"
    }
   ],
   "source": [
    "svar"
   ]
  },
  {
   "cell_type": "code",
   "execution_count": null,
   "metadata": {},
   "outputs": [
    {
     "data": {
      "text/latex": [
       "$\\displaystyle e^{\\frac{\\partial}{\\partial t} Y{\\left(t \\right)} = A{\\left(t \\right)} K^{\\alpha}{\\left(t \\right)} L^{\\beta - 1}{\\left(t \\right)} R^{\\gamma}{\\left(t \\right)} q_{k}{\\left(t \\right)} q_{l}{\\left(t \\right)} q_{r}{\\left(t \\right)}}$"
      ],
      "text/plain": [
       "exp(Derivative(Eq(Y(t), A(t)*K(t)**alpha*L(t)**(beta - 1)*R(t)**gamma*q_k(t)*q_l(t)*q_r(t)), t))"
      ]
     },
     "execution_count": 59,
     "metadata": {},
     "output_type": "execute_result"
    }
   ],
   "source": [
    "svar_2"
   ]
  },
  {
   "cell_type": "markdown",
   "metadata": {},
   "source": [
    "* Hvordan og hvorfor predikerer denne modellen at endelige ressurser påvirker vekstraten i materiell velferd?"
   ]
  },
  {
   "cell_type": "markdown",
   "metadata": {},
   "source": [
    "* Diskuter vekten av teknologisk utvikling for vekst i materiell velferd da produksjonen avhenger bruk av\n",
    "endelige naturressurser"
   ]
  }
 ],
 "metadata": {
  "kernelspec": {
   "display_name": "Python 3",
   "language": "python",
   "name": "python3"
  },
  "language_info": {
   "codemirror_mode": {
    "name": "ipython",
    "version": 3
   },
   "file_extension": ".py",
   "mimetype": "text/x-python",
   "name": "python",
   "nbconvert_exporter": "python",
   "pygments_lexer": "ipython3",
   "version": "3.11.2"
  }
 },
 "nbformat": 4,
 "nbformat_minor": 2
}
